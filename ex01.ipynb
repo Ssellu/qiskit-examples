{
 "cells": [
  {
   "cell_type": "markdown",
   "id": "24b83662-27db-4543-9438-3c92bcac1223",
   "metadata": {},
   "source": [
    "# Qiskit 소개\n",
    "Qiskit을 사용하는 경우 사용자 워크플로우는 다음의 네 가지 상위 레벨 단계로 구성된다.\n",
    "\n",
    "빌드: 사용자가 고려하고 있는 문제를 나타내는 양자 회로(들)을 설계한다.\n",
    "\n",
    "컴파일: 특정 양자 서비스를 위한 회로를 컴파일한다 (예: 퀀텀 시스템 또는 고전 시뮬레이터).\n",
    "\n",
    "Run: 지정된 퀀텀 서비스에서 컴파일된 회로를 실행한다. 이러한 서비스는 클라우드 기반 또는 로컬일 수 있습니다.\n",
    "\n",
    "분석: 요약 통계를 계산하고 실험 결과를 시각화한다."
   ]
  },
  {
   "cell_type": "code",
   "execution_count": 3,
   "id": "fd9d2328-365e-4eef-8e69-b5e66b7ad843",
   "metadata": {},
   "outputs": [
    {
     "name": "stdout",
     "output_type": "stream",
     "text": [
      "Requirement already satisfied: qiskit in c:\\programdata\\anaconda3\\lib\\site-packages (0.27.0)\n",
      "Requirement already satisfied: qiskit-aer==0.8.2 in c:\\programdata\\anaconda3\\lib\\site-packages (from qiskit) (0.8.2)\n",
      "Requirement already satisfied: qiskit-ibmq-provider==0.14.0 in c:\\programdata\\anaconda3\\lib\\site-packages (from qiskit) (0.14.0)\n",
      "Requirement already satisfied: qiskit-ignis==0.6.0 in c:\\programdata\\anaconda3\\lib\\site-packages (from qiskit) (0.6.0)\n",
      "Requirement already satisfied: qiskit-aqua==0.9.2 in c:\\programdata\\anaconda3\\lib\\site-packages (from qiskit) (0.9.2)\n",
      "Requirement already satisfied: qiskit-terra==0.17.4 in c:\\programdata\\anaconda3\\lib\\site-packages (from qiskit) (0.17.4)\n",
      "Requirement already satisfied: scipy>=1.0 in c:\\programdata\\anaconda3\\lib\\site-packages (from qiskit-aer==0.8.2->qiskit) (1.6.2)\n",
      "Requirement already satisfied: pybind11>=2.6 in c:\\programdata\\anaconda3\\lib\\site-packages (from qiskit-aer==0.8.2->qiskit) (2.6.2)\n",
      "Requirement already satisfied: numpy>=1.16.3 in c:\\programdata\\anaconda3\\lib\\site-packages (from qiskit-aer==0.8.2->qiskit) (1.20.1)\n",
      "Requirement already satisfied: quandl in c:\\programdata\\anaconda3\\lib\\site-packages (from qiskit-aqua==0.9.2->qiskit) (3.6.1)\n",
      "Requirement already satisfied: setuptools>=40.1.0 in c:\\programdata\\anaconda3\\lib\\site-packages (from qiskit-aqua==0.9.2->qiskit) (52.0.0.post20210125)\n",
      "Requirement already satisfied: psutil>=5 in c:\\programdata\\anaconda3\\lib\\site-packages (from qiskit-aqua==0.9.2->qiskit) (5.8.0)\n",
      "Requirement already satisfied: sympy>=1.3 in c:\\programdata\\anaconda3\\lib\\site-packages (from qiskit-aqua==0.9.2->qiskit) (1.8)\n",
      "Requirement already satisfied: fastdtw<=0.3.4 in c:\\programdata\\anaconda3\\lib\\site-packages (from qiskit-aqua==0.9.2->qiskit) (0.3.4)\n",
      "Requirement already satisfied: pandas in c:\\programdata\\anaconda3\\lib\\site-packages (from qiskit-aqua==0.9.2->qiskit) (1.2.4)\n",
      "Requirement already satisfied: scikit-learn>=0.20.0 in c:\\programdata\\anaconda3\\lib\\site-packages (from qiskit-aqua==0.9.2->qiskit) (0.24.1)\n",
      "Requirement already satisfied: h5py in c:\\programdata\\anaconda3\\lib\\site-packages (from qiskit-aqua==0.9.2->qiskit) (2.10.0)\n",
      "Requirement already satisfied: yfinance in c:\\programdata\\anaconda3\\lib\\site-packages (from qiskit-aqua==0.9.2->qiskit) (0.1.60)\n",
      "Requirement already satisfied: retworkx>=0.8.0 in c:\\programdata\\anaconda3\\lib\\site-packages (from qiskit-aqua==0.9.2->qiskit) (0.9.0)\n",
      "Requirement already satisfied: docplex<=2.20.204 in c:\\programdata\\anaconda3\\lib\\site-packages (from qiskit-aqua==0.9.2->qiskit) (2.20.204)\n",
      "Requirement already satisfied: dlx<=1.0.4 in c:\\programdata\\anaconda3\\lib\\site-packages (from qiskit-aqua==0.9.2->qiskit) (1.0.4)\n",
      "Requirement already satisfied: requests-ntlm>=1.1.0 in c:\\programdata\\anaconda3\\lib\\site-packages (from qiskit-ibmq-provider==0.14.0->qiskit) (1.1.0)\n",
      "Requirement already satisfied: requests>=2.19 in c:\\programdata\\anaconda3\\lib\\site-packages (from qiskit-ibmq-provider==0.14.0->qiskit) (2.25.1)\n",
      "Requirement already satisfied: dill>=0.3 in c:\\programdata\\anaconda3\\lib\\site-packages (from qiskit-ibmq-provider==0.14.0->qiskit) (0.3.4)\n",
      "Requirement already satisfied: urllib3>=1.21.1 in c:\\programdata\\anaconda3\\lib\\site-packages (from qiskit-ibmq-provider==0.14.0->qiskit) (1.26.4)\n",
      "Requirement already satisfied: python-dateutil>=2.8.0 in c:\\programdata\\anaconda3\\lib\\site-packages (from qiskit-ibmq-provider==0.14.0->qiskit) (2.8.1)\n",
      "Requirement already satisfied: websocket-client>=1.0.1 in c:\\programdata\\anaconda3\\lib\\site-packages (from qiskit-ibmq-provider==0.14.0->qiskit) (1.1.0)\n",
      "Requirement already satisfied: fastjsonschema>=2.10 in c:\\programdata\\anaconda3\\lib\\site-packages (from qiskit-terra==0.17.4->qiskit) (2.15.1)\n",
      "Requirement already satisfied: ply>=3.10 in c:\\programdata\\anaconda3\\lib\\site-packages (from qiskit-terra==0.17.4->qiskit) (3.11)\n",
      "Requirement already satisfied: python-constraint>=1.4 in c:\\programdata\\anaconda3\\lib\\site-packages (from qiskit-terra==0.17.4->qiskit) (1.4.0)\n",
      "Requirement already satisfied: jsonschema>=2.6 in c:\\programdata\\anaconda3\\lib\\site-packages (from qiskit-terra==0.17.4->qiskit) (3.2.0)\n",
      "Requirement already satisfied: six in c:\\programdata\\anaconda3\\lib\\site-packages (from docplex<=2.20.204->qiskit-aqua==0.9.2->qiskit) (1.15.0)\n",
      "Requirement already satisfied: attrs>=17.4.0 in c:\\programdata\\anaconda3\\lib\\site-packages (from jsonschema>=2.6->qiskit-terra==0.17.4->qiskit) (20.3.0)\n",
      "Requirement already satisfied: pyrsistent>=0.14.0 in c:\\programdata\\anaconda3\\lib\\site-packages (from jsonschema>=2.6->qiskit-terra==0.17.4->qiskit) (0.17.3)\n",
      "Requirement already satisfied: idna<3,>=2.5 in c:\\programdata\\anaconda3\\lib\\site-packages (from requests>=2.19->qiskit-ibmq-provider==0.14.0->qiskit) (2.10)\n",
      "Requirement already satisfied: certifi>=2017.4.17 in c:\\users\\issel\\appdata\\roaming\\python\\python38\\site-packages (from requests>=2.19->qiskit-ibmq-provider==0.14.0->qiskit) (2020.4.5.1)\n",
      "Requirement already satisfied: chardet<5,>=3.0.2 in c:\\programdata\\anaconda3\\lib\\site-packages (from requests>=2.19->qiskit-ibmq-provider==0.14.0->qiskit) (4.0.0)\n",
      "Requirement already satisfied: ntlm-auth>=1.0.2 in c:\\programdata\\anaconda3\\lib\\site-packages (from requests-ntlm>=1.1.0->qiskit-ibmq-provider==0.14.0->qiskit) (1.5.0)\n",
      "Requirement already satisfied: cryptography>=1.3 in c:\\programdata\\anaconda3\\lib\\site-packages (from requests-ntlm>=1.1.0->qiskit-ibmq-provider==0.14.0->qiskit) (3.4.7)\n",
      "Requirement already satisfied: cffi>=1.12 in c:\\programdata\\anaconda3\\lib\\site-packages (from cryptography>=1.3->requests-ntlm>=1.1.0->qiskit-ibmq-provider==0.14.0->qiskit) (1.14.5)\n",
      "Requirement already satisfied: pycparser in c:\\programdata\\anaconda3\\lib\\site-packages (from cffi>=1.12->cryptography>=1.3->requests-ntlm>=1.1.0->qiskit-ibmq-provider==0.14.0->qiskit) (2.20)\n",
      "Requirement already satisfied: joblib>=0.11 in c:\\programdata\\anaconda3\\lib\\site-packages (from scikit-learn>=0.20.0->qiskit-aqua==0.9.2->qiskit) (1.0.1)\n",
      "Requirement already satisfied: threadpoolctl>=2.0.0 in c:\\programdata\\anaconda3\\lib\\site-packages (from scikit-learn>=0.20.0->qiskit-aqua==0.9.2->qiskit) (2.1.0)\n",
      "Requirement already satisfied: mpmath>=0.19 in c:\\programdata\\anaconda3\\lib\\site-packages (from sympy>=1.3->qiskit-aqua==0.9.2->qiskit) (1.2.1)\n",
      "Requirement already satisfied: pytz>=2017.3 in c:\\programdata\\anaconda3\\lib\\site-packages (from pandas->qiskit-aqua==0.9.2->qiskit) (2021.1)\n",
      "Requirement already satisfied: more-itertools in c:\\programdata\\anaconda3\\lib\\site-packages (from quandl->qiskit-aqua==0.9.2->qiskit) (8.7.0)\n",
      "Requirement already satisfied: inflection>=0.3.1 in c:\\programdata\\anaconda3\\lib\\site-packages (from quandl->qiskit-aqua==0.9.2->qiskit) (0.5.1)\n",
      "Requirement already satisfied: lxml>=4.5.1 in c:\\programdata\\anaconda3\\lib\\site-packages (from yfinance->qiskit-aqua==0.9.2->qiskit) (4.6.3)\n",
      "Requirement already satisfied: multitasking>=0.0.7 in c:\\programdata\\anaconda3\\lib\\site-packages (from yfinance->qiskit-aqua==0.9.2->qiskit) (0.0.9)\n"
     ]
    }
   ],
   "source": [
    "!pip install qiskit"
   ]
  },
  {
   "cell_type": "code",
   "execution_count": 9,
   "id": "9da51e08-b897-4534-9954-da5a2c9df3ea",
   "metadata": {},
   "outputs": [
    {
     "name": "stdout",
     "output_type": "stream",
     "text": [
      "\n",
      "Total count for 00 and 11 are: {'00': 498, '11': 502}\n"
     ]
    },
    {
     "data": {
      "text/html": [
       "<pre style=\"word-wrap: normal;white-space: pre;background: #fff0;line-height: 1.1;font-family: &quot;Courier New&quot;,Courier,monospace\">     ┌───┐     ┌─┐   \n",
       "q_0: ┤ H ├──■──┤M├───\n",
       "     └───┘┌─┴─┐└╥┘┌─┐\n",
       "q_1: ─────┤ X ├─╫─┤M├\n",
       "          └───┘ ║ └╥┘\n",
       "c: 2/═══════════╩══╩═\n",
       "                0  1 </pre>"
      ],
      "text/plain": [
       "     ┌───┐     ┌─┐   \n",
       "q_0: ┤ H ├──■──┤M├───\n",
       "     └───┘┌─┴─┐└╥┘┌─┐\n",
       "q_1: ─────┤ X ├─╫─┤M├\n",
       "          └───┘ ║ └╥┘\n",
       "c: 2/═══════════╩══╩═\n",
       "                0  1 "
      ]
     },
     "execution_count": 9,
     "metadata": {},
     "output_type": "execute_result"
    }
   ],
   "source": [
    "import numpy as np\n",
    "from qiskit import QuantumCircuit, transpile\n",
    "from qiskit.providers.aer import QasmSimulator\n",
    "from qiskit.visualization import plot_histogram\n",
    "\n",
    "# Use Aer's qasm_simulator\n",
    "simulator = QasmSimulator()\n",
    "\n",
    "# Create a Quantum Circuit acting on the q register\n",
    "circuit = QuantumCircuit(2, 2)\n",
    "\n",
    "# Add a H gate on qubit 0\n",
    "circuit.h(0)\n",
    "\n",
    "# Add a CX (CNOT) gate on control qubit 0 and target qubit 1\n",
    "circuit.cx(0, 1)\n",
    "\n",
    "# Map the quantum measurement to the classical bits\n",
    "circuit.measure([0,1], [0,1])\n",
    "\n",
    "# compile the circuit down to low-level QASM instructions\n",
    "# supported by the backend (not needed for simple circuits)\n",
    "compiled_circuit = transpile(circuit, simulator)\n",
    "\n",
    "# Execute the circuit on the qasm simulator\n",
    "job = simulator.run(compiled_circuit, shots=1000)\n",
    "\n",
    "# Grab results from the job\n",
    "result = job.result()\n",
    "\n",
    "# Returns counts\n",
    "counts = result.get_counts(circuit)\n",
    "print(\"\\nTotal count for 00 and 11 are:\",counts)\n",
    "\n",
    "# Draw the circuit\n",
    "circuit.draw()"
   ]
  },
  {
   "cell_type": "code",
   "execution_count": 8,
   "id": "8bdb68f9-878e-4605-ab26-55dbacc46115",
   "metadata": {},
   "outputs": [
    {
     "data": {
      "image/png": "[encoded data removed]",
      "text/plain": [
       "<Figure size 504x360 with 1 Axes>"
      ]
     },
     "execution_count": 8,
     "metadata": {},
     "output_type": "execute_result"
    }
   ],
   "source": [
    "# Plot a histogram\n",
    "plot_histogram(counts)"
   ]
  }
 ],
 "metadata": {
  "kernelspec": {
   "display_name": "Python 3",
   "language": "python",
   "name": "python3"
  },
  "language_info": {
   "codemirror_mode": {
    "name": "ipython",
    "version": 3
   },
   "file_extension": ".py",
   "mimetype": "text/x-python",
   "name": "python",
   "nbconvert_exporter": "python",
   "pygments_lexer": "ipython3",
   "version": "3.8.8"
  }
 },
 "nbformat": 4,
 "nbformat_minor": 5
}
